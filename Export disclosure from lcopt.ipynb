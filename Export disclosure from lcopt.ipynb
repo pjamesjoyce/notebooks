{
 "cells": [
  {
   "cell_type": "markdown",
   "metadata": {},
   "source": [
    "# Exporting a disclosure file from lcopt"
   ]
  },
  {
   "cell_type": "markdown",
   "metadata": {},
   "source": [
    "Note: For this to work you need the latest version of lcopt-dev from conda"
   ]
  },
  {
   "cell_type": "markdown",
   "metadata": {},
   "source": [
    "### Load (or create) an lcopt model"
   ]
  },
  {
   "cell_type": "code",
   "execution_count": 7,
   "metadata": {},
   "outputs": [],
   "source": [
    "from lcopt import *"
   ]
  },
  {
   "cell_type": "code",
   "execution_count": 29,
   "metadata": {},
   "outputs": [],
   "source": [
    "model = LcoptModel(load=\"Example Model.lcopt\")"
   ]
  },
  {
   "cell_type": "markdown",
   "metadata": {},
   "source": [
    "Here's what the model looks like:\n",
    "\n",
    "![Flow chart](/images/tea_flow_chart.jpg \"Flow chart\")"
   ]
  },
  {
   "cell_type": "markdown",
   "metadata": {},
   "source": [
    "### Create the disclosure file and store the filename"
   ]
  },
  {
   "cell_type": "markdown",
   "metadata": {},
   "source": [
    "Using `export_disclosure` with no arguments exports the unspecified model (all values 1)"
   ]
  },
  {
   "cell_type": "code",
   "execution_count": 30,
   "metadata": {},
   "outputs": [
    {
     "data": {
      "text/plain": [
       "'Example_Model_unspecified.json'"
      ]
     },
     "execution_count": 30,
     "metadata": {},
     "output_type": "execute_result"
    }
   ],
   "source": [
    "unspecified_file_name = model.export_disclosure()\n",
    "unspecified_file_name"
   ]
  },
  {
   "cell_type": "markdown",
   "metadata": {},
   "source": [
    "Or you can specify a parameter set by its index:"
   ]
  },
  {
   "cell_type": "code",
   "execution_count": 31,
   "metadata": {},
   "outputs": [
    {
     "data": {
      "text/plain": [
       "'Example_Model_ps_0.json'"
      ]
     },
     "execution_count": 31,
     "metadata": {},
     "output_type": "execute_result"
    }
   ],
   "source": [
    "ps0_file_name = model.export_disclosure(0)\n",
    "ps0_file_name"
   ]
  },
  {
   "cell_type": "markdown",
   "metadata": {},
   "source": [
    "or its name:"
   ]
  },
  {
   "cell_type": "code",
   "execution_count": 35,
   "metadata": {},
   "outputs": [
    {
     "data": {
      "text/plain": [
       "'Example_Model_ps_Milky tea.json'"
      ]
     },
     "execution_count": 35,
     "metadata": {},
     "output_type": "execute_result"
    }
   ],
   "source": [
    "ps1_file_name = model.export_disclosure('Milky tea')\n",
    "ps1_file_name"
   ]
  },
  {
   "cell_type": "markdown",
   "metadata": {},
   "source": [
    "### Load one of the files to see the format"
   ]
  },
  {
   "cell_type": "code",
   "execution_count": 39,
   "metadata": {},
   "outputs": [],
   "source": [
    "import json"
   ]
  },
  {
   "cell_type": "code",
   "execution_count": 40,
   "metadata": {},
   "outputs": [],
   "source": [
    "with open(ps1_file_name, 'r') as j:\n",
    "    data = json.load(j)"
   ]
  },
  {
   "cell_type": "code",
   "execution_count": 41,
   "metadata": {},
   "outputs": [
    {
     "data": {
      "text/plain": [
       "{'Ad': [[[0, 1], 0.07500000000000001],\n",
       "  [[1, 1], 1.0],\n",
       "  [[2, 2], 0.012],\n",
       "  [[3, 0], 0.01]],\n",
       " 'Af': [[[1, 2], 1.0], [[2, 0], 0.99]],\n",
       " 'Bf': [[[0, 1], 1e-05]],\n",
       " 'Foreground emissions': [{'biosphere3_id': ['biosphere3',\n",
       "    '075e433b-4be4-448e-9510-9a5029c1ce94'],\n",
       "   'name': 'Water, emission, air'}],\n",
       " 'background flows': [{'brightway_id': ['Ecoinvent3_3_cutoff',\n",
       "    'b80c575f22df17a0fbc7b4ae11f65dd2'],\n",
       "   'ecoinvent_id': '832cb6db-89ea-45a8-878b-42a580a3e33e',\n",
       "   'ecoinvent_name': 'market for electricity, medium voltage'},\n",
       "  {'brightway_id': ['Ecoinvent3_3_cutoff', '05013963d77778b2c11336e1448b1fe2'],\n",
       "   'ecoinvent_id': '08852717-6b16-426c-be3d-649b2e6381b1',\n",
       "   'ecoinvent_name': 'market for tap water'},\n",
       "  {'brightway_id': ['Ecoinvent3_3_cutoff', '45996ff4d44c8a72ba5bf0ad89fbdb5e'],\n",
       "   'ecoinvent_id': '6aaf3f99-7e9c-45f9-9217-8afff755e9d9',\n",
       "   'ecoinvent_name': 'market for tea, dried'},\n",
       "  {'brightway_id': ['Ecoinvent3_3_cutoff', '214da18debd3c0074df1c1996cf0fed4'],\n",
       "   'ecoinvent_id': '98c6a35d-80bb-4a23-b11e-68688a93b7b4',\n",
       "   'ecoinvent_name': 'market for cow milk'}],\n",
       " 'foreground flows': [[0, 'Tea'], [1, 'Boiling water'], [2, 'Black tea']]}"
      ]
     },
     "execution_count": 41,
     "metadata": {},
     "output_type": "execute_result"
    }
   ],
   "source": [
    "data"
   ]
  },
  {
   "cell_type": "code",
   "execution_count": null,
   "metadata": {},
   "outputs": [],
   "source": []
  }
 ],
 "metadata": {
  "kernelspec": {
   "display_name": "Python 3",
   "language": "python",
   "name": "python3"
  },
  "language_info": {
   "codemirror_mode": {
    "name": "ipython",
    "version": 3
   },
   "file_extension": ".py",
   "mimetype": "text/x-python",
   "name": "python",
   "nbconvert_exporter": "python",
   "pygments_lexer": "ipython3",
   "version": "3.6.6"
  }
 },
 "nbformat": 4,
 "nbformat_minor": 2
}
