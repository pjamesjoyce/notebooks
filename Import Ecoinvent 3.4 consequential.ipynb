{
 "cells": [
  {
   "cell_type": "code",
   "execution_count": 3,
   "metadata": {},
   "outputs": [],
   "source": [
    "from brightway2 import *"
   ]
  },
  {
   "cell_type": "code",
   "execution_count": 4,
   "metadata": {},
   "outputs": [],
   "source": [
    "#import eidl"
   ]
  },
  {
   "cell_type": "code",
   "execution_count": 5,
   "metadata": {},
   "outputs": [],
   "source": [
    "projects.set_current('Ecoinvent3_4_consequential')"
   ]
  },
  {
   "cell_type": "code",
   "execution_count": 6,
   "metadata": {},
   "outputs": [],
   "source": [
    "if 'biosphere3' not in databases:\n",
    "    bw2setup()"
   ]
  },
  {
   "cell_type": "code",
   "execution_count": 7,
   "metadata": {},
   "outputs": [],
   "source": [
    "#eidl.get_ecoinvent()"
   ]
  },
  {
   "cell_type": "code",
   "execution_count": 8,
   "metadata": {},
   "outputs": [
    {
     "data": {
      "text/plain": [
       "Databases dictionary with 2 object(s):\n",
       "\tbiosphere3\n",
       "\tconsequential34"
      ]
     },
     "execution_count": 8,
     "metadata": {},
     "output_type": "execute_result"
    }
   ],
   "source": [
    "databases"
   ]
  },
  {
   "cell_type": "code",
   "execution_count": 9,
   "metadata": {},
   "outputs": [],
   "source": [
    "db = Database('consequential34')"
   ]
  },
  {
   "cell_type": "code",
   "execution_count": 10,
   "metadata": {},
   "outputs": [
    {
     "name": "stdout",
     "output_type": "stream",
     "text": [
      "Excluding 55 filtered results\n"
     ]
    },
    {
     "data": {
      "text/plain": [
       "'heat and power co-generation, wood chips, 6667 kW, state-of-the-art 2014' (megajoule, CH, None)"
      ]
     },
     "execution_count": 10,
     "metadata": {},
     "output_type": "execute_result"
    }
   ],
   "source": [
    "s = db.search('\"heat and power co-generation, wood chips, 6667 kW, state-of-the-art 2014\"', filter={'location':'CH'})[0]\n",
    "s"
   ]
  },
  {
   "cell_type": "code",
   "execution_count": 12,
   "metadata": {},
   "outputs": [],
   "source": [
    "s_techno = [x for x in s.technosphere()]"
   ]
  },
  {
   "cell_type": "code",
   "execution_count": 14,
   "metadata": {},
   "outputs": [],
   "source": [
    "s_techno_avoided = [x for x in s_techno if x['amount'] < 0]"
   ]
  },
  {
   "cell_type": "code",
   "execution_count": 20,
   "metadata": {},
   "outputs": [
    {
     "data": {
      "text/plain": [
       "{'flow': '66c93e71-f32b-4591-901c-55395db5c132',\n",
       " 'type': 'technosphere',\n",
       " 'name': 'electricity, high voltage',\n",
       " 'production volume': 1.0,\n",
       " 'activity': 'd1111e78-c078-5781-b074-5b3d9d129067',\n",
       " 'unit': 'kilowatt hour',\n",
       " 'comment': 'Electric efficiency referring to the LHV of the fuel input',\n",
       " 'amount': -0.0925925925925927,\n",
       " 'uncertainty type': 0,\n",
       " 'loc': -0.0925925925925927,\n",
       " 'input': ('consequential34', '51fecb88685cf92475ac45cf6ce8539b'),\n",
       " 'output': ('consequential34', '2eb70e25784fff4d8e8a0f006416e4a2')}"
      ]
     },
     "execution_count": 20,
     "metadata": {},
     "output_type": "execute_result"
    }
   ],
   "source": [
    "s_techno_avoided[4].as_dict()"
   ]
  },
  {
   "cell_type": "code",
   "execution_count": null,
   "metadata": {},
   "outputs": [],
   "source": []
  }
 ],
 "metadata": {
  "kernelspec": {
   "display_name": "Python 3",
   "language": "python",
   "name": "python3"
  },
  "language_info": {
   "codemirror_mode": {
    "name": "ipython",
    "version": 3
   },
   "file_extension": ".py",
   "mimetype": "text/x-python",
   "name": "python",
   "nbconvert_exporter": "python",
   "pygments_lexer": "ipython3",
   "version": "3.6.5"
  }
 },
 "nbformat": 4,
 "nbformat_minor": 2
}
