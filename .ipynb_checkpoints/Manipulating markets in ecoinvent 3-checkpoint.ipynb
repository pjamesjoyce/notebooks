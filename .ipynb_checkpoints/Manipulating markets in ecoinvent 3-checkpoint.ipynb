{
 "cells": [
  {
   "cell_type": "markdown",
   "metadata": {},
   "source": [
    "# Manipulating markets in ecoinvent 3\n",
    "### By James Joyce\n",
    "\n",
    "### Part of the 'future ecoinvent' group project"
   ]
  },
  {
   "cell_type": "markdown",
   "metadata": {},
   "source": [
    "## The challenge\n",
    "\n",
    "LCA can be a powerful tool for demonstrating the environmental credentials of products and technologies that are in development. When future products or technologies are assessed using LCA, while the foreground system can be manipulated to reflect the world they are likely to be released into, the background system is static, reflecting current technology mixes. This might lead to inconsistencies when assessing future scenarios using LCA.\n",
    "\n",
    "For example, decarbonisation of the electricity grid is likely to improve the global warming impact associated with the life cycle of electric vehicles. In a standard LCA, the foreground system can be altered to utilise lower carbon electricity sources in the use phase. It may also be possible to alter the electricity mix used by the assembly process and the production of key components. However, as the supply chain gets more and complex and intertwined, manual edits to the electricity mix used become burdensome.\n",
    "\n",
    "Similarly, aluminium is replacing steel in a number of new products with it's lightweight properties billed as reducing environmental impact (e.g. car engine blocks ([Bonollo et al. 2006](http://www.gruppofrattura.it/ors/index.php/MST/article/viewFile/1119/1071))). However, concurrently the production of aluminium is shifting towards China. From almost a standing start in the late 90's, China accounted for over half of primary aluminium production in 2015.\n",
    "\n",
    "![Proportion of primary aluminium production](https://i.imgsafe.org/3d7bb5354c.png)\n",
    "\n",
    "Aluminium smelting requires a large amount of electricity (around 14 kWh/kg), which in China is mainly produced at coal fired power stations. As a result, the net benefits from lightweighting may diminish as the impact of aluminium production with coal power increases.\n",
    "\n",
    "By making targeted alterations to the system model that builds the background database, markets for exchanges such as electricity, aluminium, or any other exchange, can be updated database-wide to reflect the future scenario we are seeking to assess with our LCA. If the process is simple enough, powerful sensitivity analyses may be possible where products or technologies can be tested out according to a variety of possible future scenarios."
   ]
  },
  {
   "cell_type": "markdown",
   "metadata": {},
   "source": [
    "## The idea\n",
    "\n",
    "The aim of this element of the project was to create a simple way to use external data (in the form of a machine readable .csv file) to manipulate the composition of markets within the ecoinvent database.\n",
    "In order to create markets, the Ocelot linking algorithm uses the relative share of production volumes in the regions contained within that market to allocate and despatch the demand. By editing the production volumes of targeted transformation processes during the construction of the system model, the resulting markets can be manipulated to represent any mix desired by the user"
   ]
  },
  {
   "cell_type": "markdown",
   "metadata": {},
   "source": [
    "## Visual representation\n",
    "\n",
    "![Market manipulation diagram](https://i.imgsafe.org/10f3528188.png)\n",
    "\n",
    "*For a given number of transforming activites within a region, the production volume of the reference product is changed using external data, and these altered production volumes (PV') are used to direct the linking for the appropriate regional market*"
   ]
  },
  {
   "cell_type": "markdown",
   "metadata": {},
   "source": [
    "## Preparing the external data\n",
    "\n",
    "Each transforming process in the ecoinvent database is identified by a universally unique identifier.\n",
    "These can be found in the [activity overview](http://www.ecoinvent.org/support/documents-and-files/information-on-ecoinvent-3/information-on-ecoinvent-3.html) spreadsheet available from the econinvent website.\n",
    "\n",
    "The file used to manipulate the markets consists of two columns, one for uuid, and one for the new production volume.\n",
    "\n",
    "For example:\n",
    "\n",
    "|                uuid                |production volume|\n",
    "|:----------------------------------:|----------------:|\n",
    "|7f093291-b86f-40c8-933e-90b18711a515|123456           |\n",
    "|be256386-9de6-43c3-8b1f-0dacdce19312|756543           |\n",
    "|...                                 |...              |\n",
    "\n",
    "The default setting for reading the file is separated by commas, with a header row, i.e.:\n",
    "\n",
    "```\n",
    "uuid,\"production volume\"\n",
    "7f093291-b86f-40c8-933e-90b18711a515,123456\n",
    "be256386-9de6-43c3-8b1f-0dacdce19312,756543\n",
    "```\n",
    "however, this can be altered by changing the ```sep``` and ```header``` keyword arguments in `read_edit_csv`"
   ]
  },
  {
   "cell_type": "markdown",
   "metadata": {},
   "source": [
    "## The code"
   ]
  },
  {
   "cell_type": "markdown",
   "metadata": {},
   "source": [
    "The code is stored as a module called `market_manipulator`\n",
    "\n",
    "This includes some utility functions (`get_dataset_by_id` and `get_dataset_by_code`) used within the new transformation function, and also some output functions (`list_techno_inputs`) to see the effects of our changes."
   ]
  },
  {
   "cell_type": "markdown",
   "metadata": {},
   "source": [
    "The main module includes a function to read the .csv file into the format required by the new transformation function\n",
    "(a dictionary with the id of the transformation process as the key and the new production volume as the value)"
   ]
  },
  {
   "cell_type": "markdown",
   "metadata": {},
   "source": [
    "```python\n",
    "\n",
    "def read_edit_csv(filename, sep = \",\", header=True):\n",
    "    \"\"\"read a csv file (column 0 = ids, column 1 = new production volumes) into the format required by edit_pv_of_reference_products\"\"\"\n",
    "    with open(filename) as csvfile:\n",
    "\n",
    "        my_edits = {}\n",
    "\n",
    "        for i, line in enumerate(csvfile):\n",
    "            if header == False or i>0:\n",
    "                ls = line.strip().split(sep)\n",
    "                my_edits[ls[0]]=ls[1]\n",
    "\n",
    "        return my_edits\n",
    "        \n",
    "```"
   ]
  },
  {
   "cell_type": "markdown",
   "metadata": {},
   "source": [
    "Below is the full version of the new transformation function to be used in the compilation of the system model\n",
    "\n",
    "It takes two positional arguments, the first is the dataset being transformed, the second is the dictionary of edits to make, in the format output by `read_edit_csv`\n",
    "\n",
    "This function changes the production volumes of the reference product of the specified transforming activities and logs the changes made"
   ]
  },
  {
   "cell_type": "markdown",
   "metadata": {},
   "source": [
    "```python\n",
    "import logging\n",
    "\n",
    "def edit_pv_of_reference_products(data, edits_to_make):\n",
    "    \"\"\"edit the production volumes of a set of activities\n",
    "        this is specified in a dictionary with the keys as the ids and the values as the new production volume\n",
    "        Note - this function is 'curried' with its dictionary to become edit_specified_pvs(data)\"\"\"\n",
    "   \n",
    "    for edit in edits_to_make:\n",
    "        dataset = get_dataset_by_id(edit, data)\n",
    "        ref_product = get_single_reference_product(dataset)\n",
    "        original_pv = ref_product['production volume']['amount']\n",
    "        new_pv = edits_to_make[edit]\n",
    "        ref_product['production volume']['amount'] = float(new_pv)\n",
    "        print ('Production volume for {} {} changed from {} to {}'.format(dataset['name'], dataset['location'],original_pv, new_pv))\n",
    "        logging.info({\n",
    "                'type': 'table element',\n",
    "                'data': (dataset['name'], dataset['location'],original_pv, new_pv)\n",
    "            })\n",
    "    return data\n",
    "\n",
    "edit_pv_of_reference_products.__table__ = {\n",
    "    'title': 'Alter the production volume of specified transforming activities',\n",
    "    'columns': [\"Activity\", \"Location\", \"Original\", \"New\"]\n",
    "}\n",
    "```"
   ]
  },
  {
   "cell_type": "markdown",
   "metadata": {},
   "source": [
    "`read_edit_csv` and `edit_pv_of_reference_products` can be imported and utilised in the generation of alternative system models.\n",
    "\n",
    "To make life slightly easier however, we can write an alternative version of Ocelot's built in `system_model` function to apply the edits in our csv file to the default Ocelot configuration.\n",
    "\n",
    "This function takes two arguments, the path to the ecospold files and the path to the .csv file\n",
    "\n",
    "It returns the results of `system_model` using the new configuration which it sets up.\n",
    "\n",
    "First it imports the elements of Ocelot it requires (`system_model`, `default_configuration` and `link_markets`), and `partial` from `functools`.\n",
    "\n",
    "Then it uses `read_edit_csv` to read in the specified file of edits.\n",
    "\n",
    "In order for the transformation function to be applied by the Ocelot `system_model` function, the external data needs to be 'curried' into a function that takes the dataset as a single positional argument. This function is called `edit_specified_pvs`\n",
    "\n",
    "Next, we need to create a new, custom configuration. We do this by finding the `link_markets` collection in the `default_configuration` and inserting our new `edit_specified_pvs` function beforehand.\n",
    "\n",
    "Finally we run `system_model` on our data files using our new configuration and return the filepath and the data."
   ]
  },
  {
   "cell_type": "markdown",
   "metadata": {
    "collapsed": false
   },
   "source": [
    "```python\n",
    "def system_model_with_pv_edits (data_path, edit_csv_file):\n",
    "    from ocelot import system_model, default_configuration\n",
    "    from ocelot.transformations.locations import link_markets    \n",
    "    from functools import partial\n",
    "    \n",
    "    my_edits = read_edit_csv(edit_csv_file)\n",
    "\n",
    "    edit_specified_pvs = partial(edit_pv_of_reference_products, edits_to_make=my_edits)\n",
    "\n",
    "    linking_function_index = default_configuration.index(link_markets)\n",
    "\n",
    "    custom_configuration = list(default_configuration)\n",
    "    custom_configuration.insert(linking_function_index, edit_specified_pvs)\n",
    "\n",
    "    # run the system model\n",
    "    fp, data = system_model(data_path, custom_configuration)\n",
    "    \n",
    "    return fp, data\n",
    "```"
   ]
  },
  {
   "cell_type": "markdown",
   "metadata": {},
   "source": [
    "## Case study - Aluminium production moving to China\n",
    "\n",
    "Below is an example, in which we change the market for aluminium such that 80% of primary ingot is produced in China. Given the current rate of growth of China's market share, this may become a reality in the next decade."
   ]
  },
  {
   "cell_type": "code",
   "execution_count": 1,
   "metadata": {
    "collapsed": false,
    "scrolled": true
   },
   "outputs": [
    {
     "name": "stdout",
     "output_type": "stream",
     "text": [
      "Starting Ocelot model run\n",
      "Using cached ecospold2 data\n",
      "Opening log file at: C:\\Users\\pjjoyce\\AppData\\Local\\ocelot_project\\Ocelot\\model-runs\\9f9d311f7b2948eaae41a2c5253c6856\\report.log.json\n",
      "Applying transformation variable_names_are_unique\n",
      "Applying transformation ensure_markets_only_have_one_reference_product\n",
      "Applying transformation ensure_markets_dont_consume_their_ref_product\n",
      "Applying transformation fix_specific_ecoinvent_issues\n",
      "Applying transformation replace_implicit_references\n",
      "Applying transformation repair_all_uncertainty_distributions\n",
      "Applying transformation fix_known_bad_formula_strings\n",
      "Applying transformation lowercase_all_parameters\n",
      "Applying transformation fix_math_formulas\n",
      "Applying transformation replace_reserved_words\n",
      "Applying transformation delete_unparsable_formulas\n",
      "Applying transformation ensure_production_exchanges_have_production_volume\n",
      "Applying transformation add_pv_to_allocatable_byproducts\n",
      "Applying transformation create_pv_parameters\n",
      "Applying transformation remove_consequential_exchanges\n",
      "Applying transformation drop_rp_activity_links\n",
      "Applying transformation drop_zero_amount_activity_links\n",
      "Applying transformation check_activity_link_validity\n",
      "Applying transformation add_hard_linked_production_volumes\n",
      "Applying transformation rename_recyclable_content_exchanges\n",
      "Applying transformation create_recycled_content_datasets\n",
      "Applying transformation flip_non_allocatable_byproducts\n",
      "Applying transformation label_allocation_method\n",
      "Applying transformation economic_allocation\n",
      "Applying transformation constrained_market_allocation\n",
      "Applying transformation recycling_allocation\n",
      "Applying transformation waste_treatment_allocation\n",
      "Applying transformation combined_production_without_products\n",
      "Applying transformation combined_production\n",
      "Applying transformation combined_production_with_byproducts\n",
      "Applying transformation delete_allocation_method\n",
      "Applying transformation drop_rp_activity_links\n",
      "Applying transformation edit_pv_of_reference_products\n",
      "Production volume for aluminium production, primary, ingot IAI Area 8 changed from 3602773998.24289 to 1599820212\n",
      "Production volume for aluminium production, primary, ingot GLO changed from 46847058823.5294 to 0\n",
      "Production volume for aluminium production, primary, ingot IAI Area 4&5 without China changed from 2985914550.70103 to 1325902333\n",
      "Production volume for aluminium production, primary, ingot CN changed from 21791765172.332 to 37477647059\n",
      "Production volume for aluminium production, primary, ingot CA-QC changed from 2392357274.40147 to 1062331837\n",
      "Production volume for aluminium production, primary, ingot IAI Area, Europe outside EU & EFTA changed from 4120233333.33333 to 1829599239\n",
      "Production volume for aluminium production, primary, ingot IAI Area 3 changed from 2018812737.40972 to 896458513\n",
      "Production volume for aluminium production, primary, ingot UN-OCEANIA changed from 2150645538.0008 to 954999176.2\n",
      "Production volume for aluminium production, primary, ingot IAI Area 1 changed from 1612492240.06556 to 716030946.8\n",
      "Production volume for aluminium production, primary, ingot IAI Area 2, without Quebec changed from 2216561938.29635 to 984269507.7\n",
      "Applying transformation label_reference_product\n",
      "Applying transformation delete_allowed_zero_pv_market_datsets\n",
      "Applying transformation assign_fake_pv_to_confidential_datasets\n",
      "Applying transformation relabel_global_to_row\n",
      "Applying transformation add_unique_codes\n",
      "Applying transformation actualize_activity_links\n",
      "Applying transformation add_recycled_content_suppliers_to_markets\n",
      "Applying transformation add_suppliers_to_markets\n",
      "Applying transformation update_market_production_volumes\n",
      "Applying transformation add_suppliers_to_markets\n",
      "Applying transformation update_market_production_volumes\n",
      "Applying transformation allocate_suppliers\n",
      "Skipping zero total PV with multiple inputs:\n",
      "\tmarket for cement, blast furnace slag 70-100%, US only/cement, blast furnace slag 70-100%, non-US (RoW, 1 suppliers)\n",
      "Skipping zero total PV with multiple inputs:\n",
      "\tmarket for waste newspaper/waste newspaper (GLO, 3 suppliers)\n",
      "Skipping zero total PV with multiple inputs:\n",
      "\tmarket for electricity, low voltage, label-certified/electricity, low voltage, label-certified (RoW, 3 suppliers)\n",
      "Skipping zero total PV with multiple inputs:\n",
      "\tmarket for electricity, medium voltage, label-certified/electricity, medium voltage, label-certified (RoW, 1 suppliers)\n",
      "Skipping zero total PV with multiple inputs:\n",
      "\tmarket for cement, blast furnace slag 25-70%, US only/cement, blast furnace slag 25-70%, US only (RoW, 1 suppliers)\n",
      "Skipping zero total PV with multiple inputs:\n",
      "\tmarket for electricity, high voltage, label-certified/electricity, high voltage, label-certified (RoW, 6 suppliers)\n",
      "Skipping zero total PV with multiple inputs:\n",
      "\tmarket for cement, pozzolana and fly ash 15-40%, US only/cement, pozzolana and fly ash 15-40%, US only (RoW, 1 suppliers)\n",
      "Skipping zero total PV with multiple inputs:\n",
      "\tmarket for electricity, high voltage, for Swiss Federal Railways/electricity, high voltage, for Swiss Federal Railways (RoW, 1 suppliers)\n",
      "Applying transformation link_consumers_to_regional_markets\n",
      "Applying transformation link_consumers_to_recycled_content_activities\n",
      "Applying transformation link_consumers_to_global_markets\n",
      "Applying transformation add_reference_product_codes\n",
      "Applying transformation log_and_delete_unlinked_exchanges\n",
      "Applying transformation rename_recycled_content_products_after_linking\n",
      "Saving final results\n"
     ]
    },
    {
     "name": "stderr",
     "output_type": "stream",
     "text": [
      "<string>:8: (WARNING/2) Block quote ends without a blank line; unexpected unindent.\n",
      "<string>:8: (WARNING/2) Block quote ends without a blank line; unexpected unindent.\n"
     ]
    }
   ],
   "source": [
    "from market_manipulator import system_model_with_pv_edits\n",
    "\n",
    "#new_pv_file = \"path/to/edits.csv\"\n",
    "new_pv_file = \"AluminiumIngot80%CN.csv\"\n",
    "\n",
    "# data_path = \"path/to/unlinked/ecospold/files\"  <- To run interactively, change this to point to a local version\n",
    "data_path = r\"C:\\Users\\pjjoyce\\Documents\\01_OcelotLargeFiles\\ecoinvent32\"\n",
    "\n",
    "fp, data = system_model_with_pv_edits(data_path, new_pv_file)"
   ]
  },
  {
   "cell_type": "markdown",
   "metadata": {},
   "source": [
    "## So what have we done?\n",
    "\n",
    "If we know the id of the market process we want to have altered, we can use the `list_techno_inputs` utility function from the `market_manipulator` module to check the inputs to the market. If the new system model has worked, 80% of the inputs of aluminium should be from China"
   ]
  },
  {
   "cell_type": "code",
   "execution_count": 2,
   "metadata": {
    "collapsed": false
   },
   "outputs": [
    {
     "name": "stdout",
     "output_type": "stream",
     "text": [
      "There are 9 inputs to the technosphere in market for aluminium, primary, ingot RoW\n"
     ]
    },
    {
     "data": {
      "text/html": [
       "<div>\n",
       "<table border=\"1\" class=\"dataframe\">\n",
       "  <thead>\n",
       "    <tr style=\"text-align: right;\">\n",
       "      <th></th>\n",
       "      <th>name</th>\n",
       "      <th>location</th>\n",
       "      <th>amount</th>\n",
       "      <th>unit</th>\n",
       "      <th>percentage</th>\n",
       "    </tr>\n",
       "  </thead>\n",
       "  <tbody>\n",
       "    <tr>\n",
       "      <th>6</th>\n",
       "      <td>aluminium production, primary, ingot</td>\n",
       "      <td>CN</td>\n",
       "      <td>0.8000</td>\n",
       "      <td>kg</td>\n",
       "      <td>80.00%</td>\n",
       "    </tr>\n",
       "    <tr>\n",
       "      <th>2</th>\n",
       "      <td>aluminium production, primary, ingot</td>\n",
       "      <td>IAI Area, Europe outside EU &amp; EFTA</td>\n",
       "      <td>0.0391</td>\n",
       "      <td>kg</td>\n",
       "      <td>3.91%</td>\n",
       "    </tr>\n",
       "    <tr>\n",
       "      <th>4</th>\n",
       "      <td>aluminium production, primary, ingot</td>\n",
       "      <td>IAI Area 8</td>\n",
       "      <td>0.0341</td>\n",
       "      <td>kg</td>\n",
       "      <td>3.41%</td>\n",
       "    </tr>\n",
       "    <tr>\n",
       "      <th>3</th>\n",
       "      <td>aluminium production, primary, ingot</td>\n",
       "      <td>IAI Area 4&amp;5 without China</td>\n",
       "      <td>0.0283</td>\n",
       "      <td>kg</td>\n",
       "      <td>2.83%</td>\n",
       "    </tr>\n",
       "    <tr>\n",
       "      <th>8</th>\n",
       "      <td>aluminium production, primary, ingot</td>\n",
       "      <td>CA-QC</td>\n",
       "      <td>0.0227</td>\n",
       "      <td>kg</td>\n",
       "      <td>2.27%</td>\n",
       "    </tr>\n",
       "    <tr>\n",
       "      <th>0</th>\n",
       "      <td>aluminium production, primary, ingot</td>\n",
       "      <td>IAI Area 2, without Quebec</td>\n",
       "      <td>0.0210</td>\n",
       "      <td>kg</td>\n",
       "      <td>2.10%</td>\n",
       "    </tr>\n",
       "    <tr>\n",
       "      <th>5</th>\n",
       "      <td>aluminium production, primary, ingot</td>\n",
       "      <td>UN-OCEANIA</td>\n",
       "      <td>0.0204</td>\n",
       "      <td>kg</td>\n",
       "      <td>2.04%</td>\n",
       "    </tr>\n",
       "    <tr>\n",
       "      <th>1</th>\n",
       "      <td>aluminium production, primary, ingot</td>\n",
       "      <td>IAI Area 3</td>\n",
       "      <td>0.0191</td>\n",
       "      <td>kg</td>\n",
       "      <td>1.91%</td>\n",
       "    </tr>\n",
       "    <tr>\n",
       "      <th>7</th>\n",
       "      <td>aluminium production, primary, ingot</td>\n",
       "      <td>IAI Area 1</td>\n",
       "      <td>0.0153</td>\n",
       "      <td>kg</td>\n",
       "      <td>1.53%</td>\n",
       "    </tr>\n",
       "  </tbody>\n",
       "</table>\n",
       "</div>"
      ],
      "text/plain": [
       "                                   name                            location  \\\n",
       "6  aluminium production, primary, ingot                                  CN   \n",
       "2  aluminium production, primary, ingot  IAI Area, Europe outside EU & EFTA   \n",
       "4  aluminium production, primary, ingot                          IAI Area 8   \n",
       "3  aluminium production, primary, ingot          IAI Area 4&5 without China   \n",
       "8  aluminium production, primary, ingot                               CA-QC   \n",
       "0  aluminium production, primary, ingot          IAI Area 2, without Quebec   \n",
       "5  aluminium production, primary, ingot                          UN-OCEANIA   \n",
       "1  aluminium production, primary, ingot                          IAI Area 3   \n",
       "7  aluminium production, primary, ingot                          IAI Area 1   \n",
       "\n",
       "   amount unit percentage  \n",
       "6  0.8000   kg     80.00%  \n",
       "2  0.0391   kg      3.91%  \n",
       "4  0.0341   kg      3.41%  \n",
       "3  0.0283   kg      2.83%  \n",
       "8  0.0227   kg      2.27%  \n",
       "0  0.0210   kg      2.10%  \n",
       "5  0.0204   kg      2.04%  \n",
       "1  0.0191   kg      1.91%  \n",
       "7  0.0153   kg      1.53%  "
      ]
     },
     "execution_count": 2,
     "metadata": {},
     "output_type": "execute_result"
    }
   ],
   "source": [
    "from market_manipulator.outputs import list_techno_inputs\n",
    "\n",
    "RoW_Al_market = \"92bb65cf-89fa-45f1-9b40-38d762e16805\"\n",
    "list_techno_inputs(RoW_Al_market,data)"
   ]
  },
  {
   "cell_type": "markdown",
   "metadata": {},
   "source": [
    "Success! Next we can load this new database into brightway2 to see what effect this has had on the impact assessment results"
   ]
  },
  {
   "cell_type": "markdown",
   "metadata": {},
   "source": [
    "## Comparing the new system model to the default in brightway2"
   ]
  },
  {
   "cell_type": "markdown",
   "metadata": {},
   "source": [
    "\n",
    "#### << Warning! The next few cells contain the code required to create the results interactively >>\n",
    "These can be skipped if you're not running the notebook interactively, the interesting parts follow\n"
   ]
  },
  {
   "cell_type": "markdown",
   "metadata": {},
   "source": [
    "First we need to run the default configuration system model to compare to (We'll do this one silently to save space)"
   ]
  },
  {
   "cell_type": "code",
   "execution_count": 3,
   "metadata": {
    "collapsed": false,
    "scrolled": true
   },
   "outputs": [],
   "source": [
    "%%capture\n",
    "from ocelot import system_model\n",
    "def_fp, def_data = system_model(data_path);"
   ]
  },
  {
   "cell_type": "markdown",
   "metadata": {},
   "source": [
    "Import brightway 2, and the Ocelot to brightway IO module"
   ]
  },
  {
   "cell_type": "code",
   "execution_count": 4,
   "metadata": {
    "collapsed": true
   },
   "outputs": [],
   "source": [
    "from brightway2 import *"
   ]
  },
  {
   "cell_type": "markdown",
   "metadata": {},
   "source": [
    "Open or create and set up the SummerSchoolReport project"
   ]
  },
  {
   "cell_type": "code",
   "execution_count": 5,
   "metadata": {
    "collapsed": false
   },
   "outputs": [
    {
     "name": "stdout",
     "output_type": "stream",
     "text": [
      "Switching to 'SummerSchoolReport' project\n"
     ]
    }
   ],
   "source": [
    "if \"SummerSchoolReport\" not in projects:\n",
    "    print(\"Creating 'SummerSchoolReport' project\")\n",
    "    projects.set_current(\"SummerSchoolReport\")\n",
    "    bw2setup() # if its new, run `bw2setup()` to set up the biosphere flows and methods\n",
    "else:\n",
    "    print(\"Switching to 'SummerSchoolReport' project\")\n",
    "    projects.set_current(\"SummerSchoolReport\")\n"
   ]
  },
  {
   "cell_type": "code",
   "execution_count": 6,
   "metadata": {
    "collapsed": false
   },
   "outputs": [],
   "source": [
    "from ocelot.io.brightway2 import import_into_brightway2\n",
    "\n",
    "def try_database_import(data, name, overwrite=False):\n",
    "\n",
    "    if name in databases:\n",
    "        if overwrite:\n",
    "            del databases[name]\n",
    "            db = import_into_brightway2(data, name)\n",
    "            print('{} overwritten'.format(name))\n",
    "        else:\n",
    "            db = Database(name)\n",
    "            print(\"{} already exists so I've given you the current version.\\nSet overwrite to True to overwrite the current version\".format(name))\n",
    "    else:\n",
    "        db = import_into_brightway2(data, name)\n",
    "        print('{} created'.format(name))\n",
    "    return db"
   ]
  },
  {
   "cell_type": "markdown",
   "metadata": {},
   "source": [
    "Import the two newly created databases into brightway2"
   ]
  },
  {
   "cell_type": "code",
   "execution_count": 7,
   "metadata": {
    "collapsed": false,
    "scrolled": true
   },
   "outputs": [
    {
     "name": "stdout",
     "output_type": "stream",
     "text": [
      "Ecoinvent32_cutoff_AlCN80 already exists so I've given you the current version.\n",
      "Set overwrite to True to overwrite the current version\n"
     ]
    }
   ],
   "source": [
    "new_database_name = \"Ecoinvent32_cutoff_AlCN80\"\n",
    "new_db = try_database_import(data, new_database_name)"
   ]
  },
  {
   "cell_type": "code",
   "execution_count": 8,
   "metadata": {
    "collapsed": false
   },
   "outputs": [
    {
     "name": "stdout",
     "output_type": "stream",
     "text": [
      "Ecoinvent32_cutoff already exists so I've given you the current version.\n",
      "Set overwrite to True to overwrite the current version\n"
     ]
    }
   ],
   "source": [
    "default_database_name = \"Ecoinvent32_cutoff\"\n",
    "def_db = try_database_import(def_data, default_database_name)"
   ]
  },
  {
   "cell_type": "markdown",
   "metadata": {},
   "source": [
    "Next we can choose some methods to use in our assessment"
   ]
  },
  {
   "cell_type": "code",
   "execution_count": 9,
   "metadata": {
    "collapsed": false
   },
   "outputs": [],
   "source": [
    "my_methods = {\n",
    "    'GWP' : [('IPCC 2013', 'GWP', '100 years'), 'Global warming potential (kg CO2-eq)'],\n",
    "    'ECO' : [('ReCiPe Endpoint (E,A)', 'ecosystem quality', 'total'),'Ecosystem quality (ReCiPe points)'],\n",
    "    'HUM' : [('ReCiPe Endpoint (E,A)', 'human health', 'total'),'Human health (ReCiPe points)'],\n",
    "    'RES' : [('ReCiPe Endpoint (E,A)', 'resources', 'total'),'Resource depletion  (ReCiPe points)']\n",
    "    }"
   ]
  },
  {
   "cell_type": "markdown",
   "metadata": {},
   "source": [
    "Then create LCA objects for the default and newly customised database, compute the LCI, with factorisation, and then run the LCIA."
   ]
  },
  {
   "cell_type": "code",
   "execution_count": 10,
   "metadata": {
    "collapsed": true
   },
   "outputs": [],
   "source": [
    "def switch_method(db, method):\n",
    "    my_lca = LCA({db.random(): 1}, method=method)\n",
    "    my_lca.lci(factorize=True)\n",
    "    my_lca.lcia()\n",
    "    \n",
    "    return my_lca"
   ]
  },
  {
   "cell_type": "code",
   "execution_count": 11,
   "metadata": {
    "collapsed": false
   },
   "outputs": [],
   "source": [
    "def_lca = switch_method(def_db, my_methods['GWP'][0])"
   ]
  },
  {
   "cell_type": "code",
   "execution_count": 12,
   "metadata": {
    "collapsed": true
   },
   "outputs": [],
   "source": [
    "new_lca = switch_method(new_db, my_methods['GWP'][0])"
   ]
  },
  {
   "cell_type": "markdown",
   "metadata": {},
   "source": [
    "These functions make it easier to assess and visualise our results"
   ]
  },
  {
   "cell_type": "code",
   "execution_count": 13,
   "metadata": {
    "collapsed": false
   },
   "outputs": [],
   "source": [
    "def check_method():\n",
    "    m = def_lca.method\n",
    "    for i in my_methods.keys():\n",
    "        if m in my_methods[i]:\n",
    "            r = my_methods[i][1]\n",
    "            break\n",
    "    return r"
   ]
  },
  {
   "cell_type": "code",
   "execution_count": 14,
   "metadata": {
    "collapsed": false
   },
   "outputs": [],
   "source": [
    "# Render our plots inline\n",
    "%matplotlib inline\n",
    "\n",
    "    \n",
    "import pandas as pd\n",
    "import matplotlib.pyplot as plt\n",
    "\n",
    "plt.style.use('ggplot')\n",
    "plt.rcParams['figure.figsize'] = (15, 5)\n",
    "\n",
    "\n",
    "\n",
    "def check_results(search_term):\n",
    "    \"\"\"Search for something in the databases and create a table and chart of LCIA results for each item you find\"\"\"\n",
    "    pd.options.display.float_format = '{:.2f}'.format\n",
    "    \n",
    "    results = []\n",
    "    max_results = 12\n",
    "    too_many = False\n",
    "    \n",
    "    def_search = sorted(def_db.search(search_term))\n",
    "    new_search = sorted(new_db.search(search_term))\n",
    "    \n",
    "    if len(def_search) + len(new_search) == 0:\n",
    "        return 'Nothing found, sorry...'\n",
    "    \n",
    "    for i, item in enumerate(def_search):\n",
    "        if i > max_results:\n",
    "            too_many=True\n",
    "            break\n",
    "        def_lca.redo_lcia({item: 1})\n",
    "        results.append({'item':\"{} | {}\".format(item['name'],item['location']), 'amount':'1 {}'.format(item['unit']), 'score':def_lca.score, 'database':def_db.name})\n",
    "        \n",
    "    for i, item in enumerate(new_search):\n",
    "        if i > max_results:\n",
    "            too_many=True\n",
    "            break\n",
    "        new_lca.redo_lcia({item: 1})\n",
    "        results.append({'item':\"{} | {}\".format(item['name'],item['location']), 'amount':'1 {}'.format(item['unit']), 'score':new_lca.score, 'database':new_db.name})\n",
    "        \n",
    "    if too_many:\n",
    "        print ('More than max number of items ({}) found, only first {} shown'.format(max_results, max_results))\n",
    "    df = pd.DataFrame(results)[['item', 'database', 'amount','score']]\n",
    "    \n",
    "    p = df.groupby(['item', 'database']).agg(sum)\n",
    "   \n",
    "    p = p.unstack()\n",
    "    p.columns = p.columns.droplevel()\n",
    "    \n",
    "    p['% difference']= ((p[new_db.name]-p[def_db.name])/p[def_db.name])*100\n",
    "    \n",
    "    p.sort_values('% difference', ascending=False, inplace =True)\n",
    "    \n",
    "    plotdata = p.drop('% difference',axis=1)\n",
    "    \n",
    "    l_names =p.index.tolist()\n",
    "    \n",
    "    from textwrap import fill\n",
    "    wrapAt = int(120/len(l_names))\n",
    "    labels = [ fill(l, wrapAt, break_long_words=False) for l in l_names]\n",
    "    \n",
    "    plot = plotdata.plot(kind='bar', rot=0)\n",
    "    plot.set_xticklabels(labels)\n",
    "    plot.legend(loc='upper right', bbox_to_anchor=(1, 1.2))\n",
    "    t = check_method()\n",
    "    plot.set_title(label=t)\n",
    "    \n",
    "    return plot, p    \n",
    "    "
   ]
  },
  {
   "cell_type": "markdown",
   "metadata": {},
   "source": [
    "\n",
    "## << Code block over, interesting bits start here >>"
   ]
  },
  {
   "cell_type": "markdown",
   "metadata": {},
   "source": [
    "### Aluminium production"
   ]
  },
  {
   "cell_type": "code",
   "execution_count": 15,
   "metadata": {
    "collapsed": false
   },
   "outputs": [
    {
     "data": {
      "text/html": [
       "<div>\n",
       "<table border=\"1\" class=\"dataframe\">\n",
       "  <thead>\n",
       "    <tr style=\"text-align: right;\">\n",
       "      <th>database</th>\n",
       "      <th>Ecoinvent32_cutoff</th>\n",
       "      <th>Ecoinvent32_cutoff_AlCN80</th>\n",
       "      <th>% difference</th>\n",
       "    </tr>\n",
       "    <tr>\n",
       "      <th>item</th>\n",
       "      <th></th>\n",
       "      <th></th>\n",
       "      <th></th>\n",
       "    </tr>\n",
       "  </thead>\n",
       "  <tbody>\n",
       "    <tr>\n",
       "      <th>aluminium ingot, primary, to aluminium, cast alloy market | GLO</th>\n",
       "      <td>18.05</td>\n",
       "      <td>20.62</td>\n",
       "      <td>14.26</td>\n",
       "    </tr>\n",
       "    <tr>\n",
       "      <th>aluminium ingot, primary, to aluminium, wrought alloy market | GLO</th>\n",
       "      <td>18.05</td>\n",
       "      <td>20.62</td>\n",
       "      <td>14.26</td>\n",
       "    </tr>\n",
       "    <tr>\n",
       "      <th>market for aluminium, primary, ingot | RoW</th>\n",
       "      <td>18.05</td>\n",
       "      <td>20.62</td>\n",
       "      <td>14.26</td>\n",
       "    </tr>\n",
       "    <tr>\n",
       "      <th>market for aluminium, primary, ingot | IAI Area, EU27 &amp; EFTA</th>\n",
       "      <td>9.93</td>\n",
       "      <td>9.93</td>\n",
       "      <td>0.03</td>\n",
       "    </tr>\n",
       "  </tbody>\n",
       "</table>\n",
       "</div>"
      ],
      "text/plain": [
       "database                                            Ecoinvent32_cutoff  \\\n",
       "item                                                                     \n",
       "aluminium ingot, primary, to aluminium, cast al...               18.05   \n",
       "aluminium ingot, primary, to aluminium, wrought...               18.05   \n",
       "market for aluminium, primary, ingot | RoW                       18.05   \n",
       "market for aluminium, primary, ingot | IAI Area...                9.93   \n",
       "\n",
       "database                                            Ecoinvent32_cutoff_AlCN80  \\\n",
       "item                                                                            \n",
       "aluminium ingot, primary, to aluminium, cast al...                      20.62   \n",
       "aluminium ingot, primary, to aluminium, wrought...                      20.62   \n",
       "market for aluminium, primary, ingot | RoW                              20.62   \n",
       "market for aluminium, primary, ingot | IAI Area...                       9.93   \n",
       "\n",
       "database                                            % difference  \n",
       "item                                                              \n",
       "aluminium ingot, primary, to aluminium, cast al...         14.26  \n",
       "aluminium ingot, primary, to aluminium, wrought...         14.26  \n",
       "market for aluminium, primary, ingot | RoW                 14.26  \n",
       "market for aluminium, primary, ingot | IAI Area...          0.03  "
      ]
     },
     "execution_count": 15,
     "metadata": {},
     "output_type": "execute_result"
    },
    {
     "data": {
      "image/png": "[encoded data removed]",
      "text/plain": [
       "<matplotlib.figure.Figure at 0xeb915fd0>"
      ]
     },
     "metadata": {},
     "output_type": "display_data"
    }
   ],
   "source": [
    "plot,table = check_results('market aluminium ingot')\n",
    "table"
   ]
  },
  {
   "cell_type": "markdown",
   "metadata": {},
   "source": [
    "The GWP impact of the RoW market for primary aluminium ingot and GLO markets for wrought and cast alloy (which take primary ingot as an input) have been affected by the changes to the system model. They have increased by around 14%. This is likely to be due to the predominant use of electricity from coal in the Hall-Héroult process.\n",
    "\n",
    "It's interesting to note that the market for aluminium in the EU (where no aluminium is imported from China) is relatively unaffected, with only a 0.03% increase in impact. This means that we haven't directly affected this market, but the changes we've made to RoW aluminium seem to have propagated through the database and led to a slight increase as a result of distant inputs to the process. This is exactly what we wanted."
   ]
  },
  {
   "cell_type": "markdown",
   "metadata": {},
   "source": [
    "If we look at ecosystem effects we see a similar, if less pronounced, effect (increase of 3.58% for RoW and GLO markets, 0.01% for EU)"
   ]
  },
  {
   "cell_type": "code",
   "execution_count": 16,
   "metadata": {
    "collapsed": true
   },
   "outputs": [],
   "source": [
    "def_lca = switch_method(def_db, my_methods['ECO'][0])\n",
    "new_lca = switch_method(new_db, my_methods['ECO'][0])"
   ]
  },
  {
   "cell_type": "code",
   "execution_count": 17,
   "metadata": {
    "collapsed": false
   },
   "outputs": [
    {
     "data": {
      "text/html": [
       "<div>\n",
       "<table border=\"1\" class=\"dataframe\">\n",
       "  <thead>\n",
       "    <tr style=\"text-align: right;\">\n",
       "      <th>database</th>\n",
       "      <th>Ecoinvent32_cutoff</th>\n",
       "      <th>Ecoinvent32_cutoff_AlCN80</th>\n",
       "      <th>% difference</th>\n",
       "    </tr>\n",
       "    <tr>\n",
       "      <th>item</th>\n",
       "      <th></th>\n",
       "      <th></th>\n",
       "      <th></th>\n",
       "    </tr>\n",
       "  </thead>\n",
       "  <tbody>\n",
       "    <tr>\n",
       "      <th>aluminium ingot, primary, to aluminium, cast alloy market | GLO</th>\n",
       "      <td>0.89</td>\n",
       "      <td>0.92</td>\n",
       "      <td>3.58</td>\n",
       "    </tr>\n",
       "    <tr>\n",
       "      <th>aluminium ingot, primary, to aluminium, wrought alloy market | GLO</th>\n",
       "      <td>0.89</td>\n",
       "      <td>0.92</td>\n",
       "      <td>3.58</td>\n",
       "    </tr>\n",
       "    <tr>\n",
       "      <th>market for aluminium, primary, ingot | RoW</th>\n",
       "      <td>0.89</td>\n",
       "      <td>0.92</td>\n",
       "      <td>3.58</td>\n",
       "    </tr>\n",
       "    <tr>\n",
       "      <th>market for aluminium, primary, ingot | IAI Area, EU27 &amp; EFTA</th>\n",
       "      <td>0.62</td>\n",
       "      <td>0.62</td>\n",
       "      <td>0.01</td>\n",
       "    </tr>\n",
       "  </tbody>\n",
       "</table>\n",
       "</div>"
      ],
      "text/plain": [
       "database                                            Ecoinvent32_cutoff  \\\n",
       "item                                                                     \n",
       "aluminium ingot, primary, to aluminium, cast al...                0.89   \n",
       "aluminium ingot, primary, to aluminium, wrought...                0.89   \n",
       "market for aluminium, primary, ingot | RoW                        0.89   \n",
       "market for aluminium, primary, ingot | IAI Area...                0.62   \n",
       "\n",
       "database                                            Ecoinvent32_cutoff_AlCN80  \\\n",
       "item                                                                            \n",
       "aluminium ingot, primary, to aluminium, cast al...                       0.92   \n",
       "aluminium ingot, primary, to aluminium, wrought...                       0.92   \n",
       "market for aluminium, primary, ingot | RoW                               0.92   \n",
       "market for aluminium, primary, ingot | IAI Area...                       0.62   \n",
       "\n",
       "database                                            % difference  \n",
       "item                                                              \n",
       "aluminium ingot, primary, to aluminium, cast al...          3.58  \n",
       "aluminium ingot, primary, to aluminium, wrought...          3.58  \n",
       "market for aluminium, primary, ingot | RoW                  3.58  \n",
       "market for aluminium, primary, ingot | IAI Area...          0.01  "
      ]
     },
     "execution_count": 17,
     "metadata": {},
     "output_type": "execute_result"
    },
    {
     "data": {
      "image/png": "[encoded data removed]",
      "text/plain": [
       "<matplotlib.figure.Figure at 0xeb8fc630>"
      ]
     },
     "metadata": {},
     "output_type": "display_data"
    }
   ],
   "source": [
    "plot,table = check_results('market aluminium ingot')\n",
    "table"
   ]
  },
  {
   "cell_type": "markdown",
   "metadata": {},
   "source": [
    "### Products known to contain aluminium\n",
    "\n",
    "We can extend our analysis explore the propagation of our changes through the background database.\n",
    "Switching back to GWP impact, we can look at products which we know to contain aluminium, for example aluminium window frames.\n",
    "Again we can see that we have brought about an increase, this time of (12.25%) as a result of increasing the impact of aluminium."
   ]
  },
  {
   "cell_type": "code",
   "execution_count": 18,
   "metadata": {
    "collapsed": true
   },
   "outputs": [],
   "source": [
    "def_lca = switch_method(def_db, my_methods['GWP'][0])\n",
    "new_lca = switch_method(new_db, my_methods['GWP'][0])"
   ]
  },
  {
   "cell_type": "code",
   "execution_count": 19,
   "metadata": {
    "collapsed": false
   },
   "outputs": [
    {
     "data": {
      "text/html": [
       "<div>\n",
       "<table border=\"1\" class=\"dataframe\">\n",
       "  <thead>\n",
       "    <tr style=\"text-align: right;\">\n",
       "      <th>database</th>\n",
       "      <th>Ecoinvent32_cutoff</th>\n",
       "      <th>Ecoinvent32_cutoff_AlCN80</th>\n",
       "      <th>% difference</th>\n",
       "    </tr>\n",
       "    <tr>\n",
       "      <th>item</th>\n",
       "      <th></th>\n",
       "      <th></th>\n",
       "      <th></th>\n",
       "    </tr>\n",
       "  </thead>\n",
       "  <tbody>\n",
       "    <tr>\n",
       "      <th>window frame production, aluminium, U=1.6 W/m2K | RoW</th>\n",
       "      <td>845.06</td>\n",
       "      <td>948.57</td>\n",
       "      <td>12.25</td>\n",
       "    </tr>\n",
       "  </tbody>\n",
       "</table>\n",
       "</div>"
      ],
      "text/plain": [
       "database                                            Ecoinvent32_cutoff  \\\n",
       "item                                                                     \n",
       "window frame production, aluminium, U=1.6 W/m2K...              845.06   \n",
       "\n",
       "database                                            Ecoinvent32_cutoff_AlCN80  \\\n",
       "item                                                                            \n",
       "window frame production, aluminium, U=1.6 W/m2K...                     948.57   \n",
       "\n",
       "database                                            % difference  \n",
       "item                                                              \n",
       "window frame production, aluminium, U=1.6 W/m2K...         12.25  "
      ]
     },
     "execution_count": 19,
     "metadata": {},
     "output_type": "execute_result"
    },
    {
     "data": {
      "image/png": "[encoded data removed]",
      "text/plain": [
       "<matplotlib.figure.Figure at 0xf3533780>"
      ]
     },
     "metadata": {},
     "output_type": "display_data"
    }
   ],
   "source": [
    "plot, table = check_results('window frame production aluminium RoW')\n",
    "table"
   ]
  },
  {
   "cell_type": "markdown",
   "metadata": {},
   "source": [
    "### Looking more broadly\n",
    "\n",
    "Taking a broader approach, we can look at things that are likely to have aluminium in their supply chain as a component of a constituent part, for example passenger cars.\n",
    "Here we can see that the percentage differences as a result of our changes vary between 0.25% and 6.41%, most likely related to the amount of aluminium in the various components."
   ]
  },
  {
   "cell_type": "code",
   "execution_count": 20,
   "metadata": {
    "collapsed": false
   },
   "outputs": [
    {
     "data": {
      "text/html": [
       "<div>\n",
       "<table border=\"1\" class=\"dataframe\">\n",
       "  <thead>\n",
       "    <tr style=\"text-align: right;\">\n",
       "      <th>database</th>\n",
       "      <th>Ecoinvent32_cutoff</th>\n",
       "      <th>Ecoinvent32_cutoff_AlCN80</th>\n",
       "      <th>% difference</th>\n",
       "    </tr>\n",
       "    <tr>\n",
       "      <th>item</th>\n",
       "      <th></th>\n",
       "      <th></th>\n",
       "      <th></th>\n",
       "    </tr>\n",
       "  </thead>\n",
       "  <tbody>\n",
       "    <tr>\n",
       "      <th>charger production, for electric passenger car | GLO</th>\n",
       "      <td>25.58</td>\n",
       "      <td>27.22</td>\n",
       "      <td>6.41</td>\n",
       "    </tr>\n",
       "    <tr>\n",
       "      <th>electric motor production, vehicle (electric powertrain) | GLO</th>\n",
       "      <td>10.88</td>\n",
       "      <td>11.52</td>\n",
       "      <td>5.91</td>\n",
       "    </tr>\n",
       "    <tr>\n",
       "      <th>powertrain production, for electric passenger car | GLO</th>\n",
       "      <td>17.21</td>\n",
       "      <td>18.14</td>\n",
       "      <td>5.39</td>\n",
       "    </tr>\n",
       "    <tr>\n",
       "      <th>internal combustion engine production, passenger car | GLO</th>\n",
       "      <td>6.05</td>\n",
       "      <td>6.38</td>\n",
       "      <td>5.31</td>\n",
       "    </tr>\n",
       "    <tr>\n",
       "      <th>inverter production, for electric passenger car | GLO</th>\n",
       "      <td>35.87</td>\n",
       "      <td>37.66</td>\n",
       "      <td>4.98</td>\n",
       "    </tr>\n",
       "    <tr>\n",
       "      <th>converter production, for electric passenger car | GLO</th>\n",
       "      <td>34.36</td>\n",
       "      <td>35.95</td>\n",
       "      <td>4.63</td>\n",
       "    </tr>\n",
       "    <tr>\n",
       "      <th>power distribution unit production, for electric passenger car | GLO</th>\n",
       "      <td>35.32</td>\n",
       "      <td>36.87</td>\n",
       "      <td>4.40</td>\n",
       "    </tr>\n",
       "    <tr>\n",
       "      <th>passenger car production, diesel | GLO</th>\n",
       "      <td>5.54</td>\n",
       "      <td>5.65</td>\n",
       "      <td>1.93</td>\n",
       "    </tr>\n",
       "    <tr>\n",
       "      <th>passenger car production, petrol/natural gas | GLO</th>\n",
       "      <td>5.50</td>\n",
       "      <td>5.59</td>\n",
       "      <td>1.70</td>\n",
       "    </tr>\n",
       "    <tr>\n",
       "      <th>passenger car production, electric, without battery | GLO</th>\n",
       "      <td>6.36</td>\n",
       "      <td>6.45</td>\n",
       "      <td>1.46</td>\n",
       "    </tr>\n",
       "    <tr>\n",
       "      <th>glider production, passenger car | GLO</th>\n",
       "      <td>5.13</td>\n",
       "      <td>5.14</td>\n",
       "      <td>0.25</td>\n",
       "    </tr>\n",
       "  </tbody>\n",
       "</table>\n",
       "</div>"
      ],
      "text/plain": [
       "database                                            Ecoinvent32_cutoff  \\\n",
       "item                                                                     \n",
       "charger production, for electric passenger car ...               25.58   \n",
       "electric motor production, vehicle (electric po...               10.88   \n",
       "powertrain production, for electric passenger c...               17.21   \n",
       "internal combustion engine production, passenge...                6.05   \n",
       "inverter production, for electric passenger car...               35.87   \n",
       "converter production, for electric passenger ca...               34.36   \n",
       "power distribution unit production, for electri...               35.32   \n",
       "passenger car production, diesel | GLO                            5.54   \n",
       "passenger car production, petrol/natural gas | GLO                5.50   \n",
       "passenger car production, electric, without bat...                6.36   \n",
       "glider production, passenger car | GLO                            5.13   \n",
       "\n",
       "database                                            Ecoinvent32_cutoff_AlCN80  \\\n",
       "item                                                                            \n",
       "charger production, for electric passenger car ...                      27.22   \n",
       "electric motor production, vehicle (electric po...                      11.52   \n",
       "powertrain production, for electric passenger c...                      18.14   \n",
       "internal combustion engine production, passenge...                       6.38   \n",
       "inverter production, for electric passenger car...                      37.66   \n",
       "converter production, for electric passenger ca...                      35.95   \n",
       "power distribution unit production, for electri...                      36.87   \n",
       "passenger car production, diesel | GLO                                   5.65   \n",
       "passenger car production, petrol/natural gas | GLO                       5.59   \n",
       "passenger car production, electric, without bat...                       6.45   \n",
       "glider production, passenger car | GLO                                   5.14   \n",
       "\n",
       "database                                            % difference  \n",
       "item                                                              \n",
       "charger production, for electric passenger car ...          6.41  \n",
       "electric motor production, vehicle (electric po...          5.91  \n",
       "powertrain production, for electric passenger c...          5.39  \n",
       "internal combustion engine production, passenge...          5.31  \n",
       "inverter production, for electric passenger car...          4.98  \n",
       "converter production, for electric passenger ca...          4.63  \n",
       "power distribution unit production, for electri...          4.40  \n",
       "passenger car production, diesel | GLO                      1.93  \n",
       "passenger car production, petrol/natural gas | GLO          1.70  \n",
       "passenger car production, electric, without bat...          1.46  \n",
       "glider production, passenger car | GLO                      0.25  "
      ]
     },
     "execution_count": 20,
     "metadata": {},
     "output_type": "execute_result"
    },
    {
     "data": {
      "image/png": "[encoded data removed]",
      "text/plain": [
       "<matplotlib.figure.Figure at 0xeb923550>"
      ]
     },
     "metadata": {},
     "output_type": "display_data"
    }
   ],
   "source": [
    "plot, table = check_results('passenger car production')\n",
    "table"
   ]
  },
  {
   "cell_type": "markdown",
   "metadata": {},
   "source": [
    "## Conclusions and next steps\n",
    "\n",
    "We set out to create a simple way for LCA practitioners to manipulate the make up of markets within the ecoinvent database in such a way that these changes propagate through the database and influence the entire background system.\n",
    "The newly created `market_manipulator` module does just this. \n",
    "With two commands...\n",
    "\n",
    "```python\n",
    "from market_manipulator import system_model_with_pv_edits\n",
    "\n",
    "fp, data = system_model_with_pv_edits('path/to/unlinked/spold/files', 'path/to/csv/file')\n",
    "```\n",
    "\n",
    "...the production volumes, and hence the resulting market for a given exchange can be edited. The practitioners themselves just need to know how to create the csv and they can use it straight away without needing to know the detail behind it.\n",
    "\n",
    "As the results show, throwing a stone of this kind into the ecoinvent 'pond' creates ripples throughout the database. Manipulating the market for aluminium for example, affects a wide number of processes to a greater or lesser extent.\n",
    "\n",
    "Two lines of future development are immediately apparent. \n",
    "\n",
    "Firstly, for some markets the opportunity to add technologies that produce the reference product but which do not exist in that region may be useful. For example, introducing renewable technologies for electricity production into regions where it does not currently exist. Work by other groups to regionalise global datasets is likely to be very helpful in developing this strand.\n",
    "\n",
    "Secondly, while the current format of the .csv file is efficiently machine readable, it is not particularly intuitive for human users. The development of a simple excel spreadsheet which can be filtered by reference product and region where the user can manipulate the production volumes and then output the necessary .csv file is likely to be a useful addition."
   ]
  }
 ],
 "metadata": {
  "anaconda-cloud": {},
  "kernelspec": {
   "display_name": "Python [conda env:ocelot]",
   "language": "python",
   "name": "conda-env-ocelot-py"
  },
  "language_info": {
   "codemirror_mode": {
    "name": "ipython",
    "version": 3
   },
   "file_extension": ".py",
   "mimetype": "text/x-python",
   "name": "python",
   "nbconvert_exporter": "python",
   "pygments_lexer": "ipython3",
   "version": "3.5.2"
  }
 },
 "nbformat": 4,
 "nbformat_minor": 1
}
